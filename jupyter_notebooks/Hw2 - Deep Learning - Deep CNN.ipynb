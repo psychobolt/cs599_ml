{
 "cells": [
  {
   "cell_type": "code",
   "execution_count": 1,
   "metadata": {},
   "outputs": [
    {
     "name": "stderr",
     "output_type": "stream",
     "text": [
      "Using TensorFlow backend.\n"
     ]
    }
   ],
   "source": [
    "import os\n",
    "import numpy as np\n",
    "import pandas as pd\n",
    "import matplotlib.pyplot as plt\n",
    "from keras.models import Sequential, load_model\n",
    "from keras.layers import Dense, Dropout, convolutional, normalization, Activation, Dropout, Flatten, pooling\n",
    "from keras.optimizers import Adam, SGD\n",
    "from keras.regularizers import l2\n",
    "from keras.utils import np_utils\n",
    "from keras.callbacks import TensorBoard, ModelCheckpoint, ReduceLROnPlateau, EarlyStopping\n",
    "from keras.preprocessing.image import ImageDataGenerator\n",
    "from sklearn.model_selection import StratifiedShuffleSplit\n",
    "import csv\n",
    "\n",
    "np.random.seed(42) # the answer to life is a number, reproducibility"
   ]
  },
  {
   "cell_type": "code",
   "execution_count": 2,
   "metadata": {
    "collapsed": true
   },
   "outputs": [],
   "source": [
    "# I'd consider putting your datafiles in a ancenstor directory outside this file\n",
    "\n",
    "train_images = pd.read_csv('../Hw2_data/train_data.csv', header=None).values.astype('float32')\n",
    "train_labels = pd.read_csv('../Hw2_data/train_target.csv', header=None).values.astype('int32')\n",
    "test_images = pd.read_csv('../Hw2_data/test_data.csv', header=None).values.astype('float32')"
   ]
  },
  {
   "cell_type": "code",
   "execution_count": 3,
   "metadata": {},
   "outputs": [
    {
     "name": "stdout",
     "output_type": "stream",
     "text": [
      "(16175, 2304) (16175, 1)\n",
      "(3965, 2304) (3965,)\n"
     ]
    },
    {
     "data": {
      "image/png": "[encoded data removed]",
      "text/plain": [
       "<matplotlib.figure.Figure at 0x2b264ad0278>"
      ]
     },
     "metadata": {},
     "output_type": "display_data"
    }
   ],
   "source": [
    "sample_labels = pd.read_csv('../Hw2_data/sample-submission.csv')\n",
    "sample_labels.set_index('Id')\n",
    "sample_labels = sample_labels['Category'].values.astype('int32')\n",
    "\n",
    "print(train_images.shape, train_labels.shape)\n",
    "print(test_images.shape, sample_labels.shape)\n",
    "\n",
    "# Show samples from training data\n",
    "images = train_images.reshape(train_images.shape[0], 48, 48)\n",
    "n = 3\n",
    "row = 3\n",
    "labels = ['Angry', 'Happy', 'Neutral']\n",
    "begin = 0 # can be random, but pick a number that reproduces results\n",
    "for i in range(begin, begin + 3):\n",
    "    plt.subplot(n//row, row, i%row+1)\n",
    "    plt.imshow(images[i], cmap=plt.get_cmap('gray'))\n",
    "    plt.title(labels[int(train_labels[i])])\n",
    "plt.show()"
   ]
  },
  {
   "cell_type": "code",
   "execution_count": 4,
   "metadata": {
    "collapsed": true
   },
   "outputs": [],
   "source": [
    "def split():\n",
    "    \"\"\"\n",
    "    Split in a stratified way to make sure the training data covers all classes\n",
    "    \"\"\"\n",
    "    # Reshape\n",
    "    X = train_images.reshape(-1,1,48,48)\n",
    "\n",
    "    # Normalize\n",
    "    X /= 255\n",
    "    Y = np_utils.to_categorical(train_labels, 3)\n",
    "    print('Preprocessing done')\n",
    "    \n",
    "    sss = StratifiedShuffleSplit(test_size=test_size, random_state=42)\n",
    "    sss.split(train_images, train_labels)\n",
    "    for train_index, test_index in sss.split(X, Y):\n",
    "        X, X_val = X[train_index], X[test_index]\n",
    "        Y, Y_val = Y[train_index], Y[test_index]\n",
    "        break\n",
    "\n",
    "    # Augment data\n",
    "    \n",
    "    train_aug_dir='../Hw2_data/images/training_augmented'\n",
    "    if not os.path.exists(train_aug_dir):\n",
    "        os.makedirs(train_aug_dir)\n",
    "    test_aug_dir='../Hw2_data/images/test_augmented'\n",
    "    if not os.path.exists(test_aug_dir):\n",
    "        os.makedirs(test_aug_dir)\n",
    "\n",
    "    train_datagen = ImageDataGenerator(\n",
    "        zoom_range=0.2,\n",
    "        horizontal_flip=True,\n",
    "        data_format='channels_first',\n",
    "    )\n",
    "    train_datagen.fit(X)\n",
    "    train_generator = train_datagen.flow(\n",
    "        X,\n",
    "        Y,\n",
    "        seed=42,\n",
    "        batch_size=batch_size,\n",
    "#         save_to_dir=train_aug_dir # uncomment to see Data\n",
    "    )\n",
    "\n",
    "    validate_datagen = ImageDataGenerator(\n",
    "        data_format='channels_first'\n",
    "    )\n",
    "    validate_datagen.fit(X_val)\n",
    "    validate_generator = train_datagen.flow(\n",
    "        X_val,\n",
    "        Y_val,\n",
    "        seed=42,\n",
    "        batch_size=batch_size,\n",
    "#         save_to_dir=test_aug_dir # uncomment to see Data\n",
    "    )\n",
    "    \n",
    "    return (X, Y, X_val, Y_val, train_generator, validate_generator)\n",
    "\n",
    "def train(model, aug_mult=2, epochs=20, batch_size=256):\n",
    "    \"\"\"\n",
    "    Train a model\n",
    "    \"\"\"\n",
    "    train_size = X_train.shape[0] * aug_mult\n",
    "    validate_size = X_validate.shape[0] * aug_mult\n",
    "    print('Training with: ')\n",
    "    print('Aug training split: ', train_size)\n",
    "    print('Aug test split: ', validate_size)\n",
    "    \n",
    "    # Adjust Learning Rate\n",
    "    reduceLR = ReduceLROnPlateau(monitor='val_loss', factor=0.5, verbose=1)\n",
    "    \n",
    "    # Early stopping\n",
    "    earlyStopper = EarlyStopping(verbose=1, patience=15)\n",
    "    \n",
    "    # Begin train\n",
    "    model.fit_generator(\n",
    "        train_generator, \n",
    "        epochs=epochs,\n",
    "        steps_per_epoch=train_size // batch_size,\n",
    "        validation_data=validate_generator,\n",
    "        validation_steps=validate_size // batch_size,\n",
    "        verbose=1,\n",
    "        callbacks=[tbCallback, checkpoint, reduceLR, earlyStopper]\n",
    "    )\n",
    "    \n",
    "    # Save the model\n",
    "    model.save('../Hw2_data/model.h5')\n",
    "    \n",
    "    print('Done')"
   ]
  },
  {
   "cell_type": "code",
   "execution_count": 5,
   "metadata": {
    "collapsed": true
   },
   "outputs": [],
   "source": [
    "def createModel(stacks=4, base_filter_size=32, lr=0.0003):\n",
    "    \"\"\"\n",
    "    Deep CNN\n",
    "    \n",
    "    Creates a Small Neural Net made for training small images batches\n",
    "    This model can reach .79 validation accuracy at .006 lr without any dropout, batch normalization, and regularization\n",
    "    \n",
    "    References: \n",
    "    https://shuaiw.github.io/2017/01/24/deep-learning-for-logo-recognition-part-i.html\n",
    "    https://adeshpande3.github.io/adeshpande3.github.io/A-Beginner's-Guide-To-Understanding-Convolutional-Neural-Networks-Part-2/\n",
    "    \"\"\"\n",
    "    model = Sequential()\n",
    "\n",
    "    # one limitation is that you can't specify which stacks need dropout, batch normalization, \n",
    "    # it is something I'll work on in the future\n",
    "    for i in range(0, stacks):\n",
    "        model.add(convolutional.Conv2D(\n",
    "            filters=base_filter_size, \n",
    "            strides=(1,1),\n",
    "            kernel_size=(3,3),\n",
    "            input_shape=(1,48,48),\n",
    "            padding='same'\n",
    "        ))\n",
    "        model.add(convolutional.Conv2D(\n",
    "            filters=base_filter_size,\n",
    "            strides=(1,1),\n",
    "            kernel_size=(3,3),\n",
    "            padding='same'\n",
    "        ))\n",
    "        model.add(Activation('relu'))\n",
    "        model.add(pooling.MaxPooling2D(\n",
    "            pool_size=(2,2),\n",
    "            padding='same'\n",
    "        ))\n",
    "        model.add(normalization.BatchNormalization())\n",
    "        base_filter_size *= 2\n",
    "\n",
    "    # Add Flatten layer\n",
    "    model.add(Flatten())\n",
    "    model.add(Dense(128))\n",
    "#     model.add(Dropout(0.1))\n",
    "    model.add(Dense(64))\n",
    "    \n",
    "    # FC layer with softmax\n",
    "    model.add(Dense(3))\n",
    "    model.add(Activation('softmax'))\n",
    "\n",
    "    # Use RMSprop + momentum\n",
    "    opt = Adam(lr)\n",
    "\n",
    "    # Choose loss function, optimization method, and metrics to display\n",
    "    model.compile(\n",
    "        optimizer = opt,\n",
    "        loss = 'categorical_crossentropy',\n",
    "        metrics=['accuracy']\n",
    "    )\n",
    "\n",
    "    return model"
   ]
  },
  {
   "cell_type": "code",
   "execution_count": 6,
   "metadata": {},
   "outputs": [
    {
     "name": "stdout",
     "output_type": "stream",
     "text": [
      "Preprocessing done\n"
     ]
    }
   ],
   "source": [
    "# Show loss and accuracy at each epoch in Tensorboard\n",
    "tbCallback = TensorBoard(log_dir='./Graph', histogram_freq=0, write_graph=True, write_images=True)\n",
    "\n",
    "# Save best model\n",
    "checkpoint = ModelCheckpoint('../Hw2_data/weights.best.hdf5', monitor='val_acc', verbose=1, save_best_only=True, mode='max')\n",
    "\n",
    "model = createModel(\n",
    "    stacks=4, # 2 Conv per stack\n",
    "    base_filter_size=32, # increases by 2 per stack\n",
    "    lr=0.0003 # based on base model without dropout, regularizers, batch normalization\n",
    ")\n",
    "\n",
    "test_size = 0.2 # since we augment the data, this should never really be changed\n",
    "batch_size = 1536 # This value seems good for GTX 980 4GB DDR3 without maxing out mem\n",
    "aug_mult = 7\n",
    "epochs = 1000 # any number since we can early stop based on validation loss\n",
    "\n",
    "X_train, Y_train, X_validate, Y_validate, train_generator, validate_generator = split()"
   ]
  },
  {
   "cell_type": "code",
   "execution_count": 7,
   "metadata": {},
   "outputs": [
    {
     "name": "stdout",
     "output_type": "stream",
     "text": [
      "Training with: \n",
      "Aug training split:  90580\n",
      "Aug test split:  22645\n",
      "Epoch 1/1000\n",
      "57/58 [============================>.] - ETA: 0s - loss: 1.0912 - acc: 0.5141Epoch 00000: val_acc improved from -inf to 0.44073, saving model to ../Hw2_data/weights.best.hdf5\n",
      "58/58 [==============================] - 47s - loss: 1.0879 - acc: 0.5153 - val_loss: 1.0881 - val_acc: 0.4407\n",
      "Epoch 2/1000\n",
      "57/58 [============================>.] - ETA: 0s - loss: 0.8512 - acc: 0.6130Epoch 00001: val_acc did not improve\n",
      "58/58 [==============================] - 42s - loss: 0.8504 - acc: 0.6134 - val_loss: 1.0848 - val_acc: 0.4405\n",
      "Epoch 3/1000\n",
      "57/58 [============================>.] - ETA: 0s - loss: 0.7760 - acc: 0.6555Epoch 00002: val_acc did not improve\n",
      "58/58 [==============================] - 41s - loss: 0.7752 - acc: 0.6559 - val_loss: 1.0907 - val_acc: 0.3723\n",
      "Epoch 4/1000\n",
      "57/58 [============================>.] - ETA: 0s - loss: 0.7103 - acc: 0.6935Epoch 00003: val_acc did not improve\n",
      "58/58 [==============================] - 42s - loss: 0.7100 - acc: 0.6935 - val_loss: 1.0895 - val_acc: 0.3766\n",
      "Epoch 5/1000\n",
      "57/58 [============================>.] - ETA: 0s - loss: 0.6488 - acc: 0.7254Epoch 00004: val_acc improved from 0.44073 to 0.51255, saving model to ../Hw2_data/weights.best.hdf5\n",
      "58/58 [==============================] - 40s - loss: 0.6481 - acc: 0.7257 - val_loss: 1.0381 - val_acc: 0.5126\n",
      "Epoch 6/1000\n",
      "57/58 [============================>.] - ETA: 0s - loss: 0.5925 - acc: 0.7538Epoch 00005: val_acc improved from 0.51255 to 0.52704, saving model to ../Hw2_data/weights.best.hdf5\n",
      "58/58 [==============================] - 43s - loss: 0.5923 - acc: 0.7540 - val_loss: 0.9806 - val_acc: 0.5270\n",
      "Epoch 7/1000\n",
      "57/58 [============================>.] - ETA: 0s - loss: 0.5326 - acc: 0.7856Epoch 00006: val_acc improved from 0.52704 to 0.61385, saving model to ../Hw2_data/weights.best.hdf5\n",
      "58/58 [==============================] - 41s - loss: 0.5316 - acc: 0.7861 - val_loss: 0.8524 - val_acc: 0.6139\n",
      "Epoch 8/1000\n",
      "57/58 [============================>.] - ETA: 0s - loss: 0.4831 - acc: 0.8073Epoch 00007: val_acc improved from 0.61385 to 0.64814, saving model to ../Hw2_data/weights.best.hdf5\n",
      "58/58 [==============================] - 40s - loss: 0.4824 - acc: 0.8076 - val_loss: 0.7944 - val_acc: 0.6481\n",
      "Epoch 9/1000\n",
      "57/58 [============================>.] - ETA: 0s - loss: 0.4374 - acc: 0.8265Epoch 00008: val_acc improved from 0.64814 to 0.67437, saving model to ../Hw2_data/weights.best.hdf5\n",
      "58/58 [==============================] - 38s - loss: 0.4366 - acc: 0.8270 - val_loss: 0.7717 - val_acc: 0.6744\n",
      "Epoch 10/1000\n",
      "57/58 [============================>.] - ETA: 0s - loss: 0.3947 - acc: 0.8479Epoch 00009: val_acc improved from 0.67437 to 0.69941, saving model to ../Hw2_data/weights.best.hdf5\n",
      "58/58 [==============================] - 41s - loss: 0.3948 - acc: 0.8478 - val_loss: 0.7583 - val_acc: 0.6994\n",
      "Epoch 11/1000\n",
      "57/58 [============================>.] - ETA: 0s - loss: 0.3532 - acc: 0.8648Epoch 00010: val_acc improved from 0.69941 to 0.71715, saving model to ../Hw2_data/weights.best.hdf5\n",
      "58/58 [==============================] - 40s - loss: 0.3528 - acc: 0.8650 - val_loss: 0.7709 - val_acc: 0.7171\n",
      "Epoch 12/1000\n",
      "57/58 [============================>.] - ETA: 0s - loss: 0.3180 - acc: 0.8792Epoch 00011: val_acc improved from 0.71715 to 0.73101, saving model to ../Hw2_data/weights.best.hdf5\n",
      "58/58 [==============================] - 40s - loss: 0.3174 - acc: 0.8794 - val_loss: 0.7897 - val_acc: 0.7310\n",
      "Epoch 13/1000\n",
      "57/58 [============================>.] - ETA: 0s - loss: 0.2951 - acc: 0.8890Epoch 00012: val_acc improved from 0.73101 to 0.73876, saving model to ../Hw2_data/weights.best.hdf5\n",
      "58/58 [==============================] - 41s - loss: 0.2952 - acc: 0.8888 - val_loss: 0.7826 - val_acc: 0.7388\n",
      "Epoch 14/1000\n",
      "57/58 [============================>.] - ETA: 0s - loss: 0.2730 - acc: 0.8973Epoch 00013: val_acc improved from 0.73876 to 0.74938, saving model to ../Hw2_data/weights.best.hdf5\n",
      "58/58 [==============================] - 41s - loss: 0.2728 - acc: 0.8974 - val_loss: 0.8218 - val_acc: 0.7494\n",
      "Epoch 15/1000\n",
      "57/58 [============================>.] - ETA: 0s - loss: 0.2428 - acc: 0.9086Epoch 00014: val_acc did not improve\n",
      "58/58 [==============================] - 40s - loss: 0.2428 - acc: 0.9086 - val_loss: 0.8483 - val_acc: 0.7442\n",
      "Epoch 16/1000\n",
      "57/58 [============================>.] - ETA: 0s - loss: 0.2164 - acc: 0.9203Epoch 00015: val_acc did not improve\n",
      "58/58 [==============================] - 39s - loss: 0.2164 - acc: 0.9204 - val_loss: 0.9003 - val_acc: 0.7381\n",
      "Epoch 17/1000\n",
      "57/58 [============================>.] - ETA: 0s - loss: 0.2049 - acc: 0.9233Epoch 00016: val_acc improved from 0.74938 to 0.76199, saving model to ../Hw2_data/weights.best.hdf5\n",
      "58/58 [==============================] - 42s - loss: 0.2047 - acc: 0.9234 - val_loss: 0.8783 - val_acc: 0.7620\n",
      "Epoch 18/1000\n",
      "57/58 [============================>.] - ETA: 0s - loss: 0.1938 - acc: 0.9280Epoch 00017: val_acc did not improve\n",
      "58/58 [==============================] - 39s - loss: 0.1940 - acc: 0.9278 - val_loss: 0.9324 - val_acc: 0.7555\n",
      "Epoch 19/1000\n",
      "57/58 [============================>.] - ETA: 0s - loss: 0.1756 - acc: 0.9354Epoch 00018: val_acc improved from 0.76199 to 0.77367, saving model to ../Hw2_data/weights.best.hdf5\n",
      "58/58 [==============================] - 42s - loss: 0.1758 - acc: 0.9353 - val_loss: 0.8932 - val_acc: 0.7737\n",
      "Epoch 20/1000\n",
      "57/58 [============================>.] - ETA: 0s - loss: 0.1628 - acc: 0.9407Epoch 00019: val_acc did not improve\n",
      "58/58 [==============================] - 40s - loss: 0.1624 - acc: 0.9408 - val_loss: 0.9080 - val_acc: 0.7715\n",
      "Epoch 21/1000\n",
      "57/58 [============================>.] - ETA: 0s - loss: 0.1560 - acc: 0.9437Epoch 00020: val_acc did not improve\n",
      "\n",
      "Epoch 00020: reducing learning rate to 0.0001500000071246177.\n",
      "58/58 [==============================] - 40s - loss: 0.1556 - acc: 0.9438 - val_loss: 0.9487 - val_acc: 0.7732\n",
      "Epoch 22/1000\n",
      "57/58 [============================>.] - ETA: 0s - loss: 0.1172 - acc: 0.9584Epoch 00021: val_acc improved from 0.77367 to 0.78454, saving model to ../Hw2_data/weights.best.hdf5\n",
      "58/58 [==============================] - 40s - loss: 0.1169 - acc: 0.9585 - val_loss: 0.8938 - val_acc: 0.7845\n",
      "Epoch 23/1000\n",
      "57/58 [============================>.] - ETA: 0s - loss: 0.0876 - acc: 0.9699Epoch 00022: val_acc improved from 0.78454 to 0.79009, saving model to ../Hw2_data/weights.best.hdf5\n",
      "58/58 [==============================] - 41s - loss: 0.0875 - acc: 0.9700 - val_loss: 0.9055 - val_acc: 0.7901\n",
      "Epoch 24/1000\n",
      "57/58 [============================>.] - ETA: 0s - loss: 0.0792 - acc: 0.9733Epoch 00023: val_acc improved from 0.79009 to 0.79284, saving model to ../Hw2_data/weights.best.hdf5\n",
      "58/58 [==============================] - 40s - loss: 0.0792 - acc: 0.9734 - val_loss: 0.9060 - val_acc: 0.7928\n",
      "Epoch 25/1000\n",
      "57/58 [============================>.] - ETA: 0s - loss: 0.0768 - acc: 0.9741Epoch 00024: val_acc did not improve\n",
      "58/58 [==============================] - 42s - loss: 0.0769 - acc: 0.9740 - val_loss: 0.9271 - val_acc: 0.7922\n",
      "Epoch 26/1000\n",
      "57/58 [============================>.] - ETA: 0s - loss: 0.0767 - acc: 0.9740Epoch 00025: val_acc did not improve\n",
      "58/58 [==============================] - 39s - loss: 0.0767 - acc: 0.9740 - val_loss: 0.9468 - val_acc: 0.7892\n",
      "Epoch 00025: early stopping\n",
      "Done\n"
     ]
    }
   ],
   "source": [
    "train(\n",
    "    model, \n",
    "    aug_mult=aug_mult, \n",
    "    epochs=epochs, \n",
    "    batch_size=batch_size\n",
    ")"
   ]
  },
  {
   "cell_type": "code",
   "execution_count": 8,
   "metadata": {},
   "outputs": [
    {
     "name": "stdout",
     "output_type": "stream",
     "text": [
      "Training with: \n",
      "Aug training split:  90580\n",
      "Aug test split:  22645\n",
      "Done\n"
     ]
    }
   ],
   "source": [
    "# verify model was saved! You can rerun this cell for more tries\n",
    "del model\n",
    "model = load_model('../Hw2_data/model.h5')\n",
    "train(\n",
    "    model, \n",
    "    aug_mult=aug_mult, \n",
    "    epochs=0, #change if more tries needed\n",
    "    batch_size=batch_size\n",
    ")"
   ]
  },
  {
   "cell_type": "code",
   "execution_count": 9,
   "metadata": {},
   "outputs": [
    {
     "name": "stdout",
     "output_type": "stream",
     "text": [
      "(3965, 3)\n"
     ]
    }
   ],
   "source": [
    "# load and use the best weights\n",
    "model.load_weights('../Hw2_data/weights.best.hdf5')\n",
    "\n",
    "# Make predictions\n",
    "test_images = test_images.reshape(-1,1,48,48)\n",
    "test_images /= 255\n",
    "predictions = model.predict(test_images)\n",
    "\n",
    "print(predictions.shape)"
   ]
  },
  {
   "cell_type": "code",
   "execution_count": 10,
   "metadata": {
    "collapsed": true
   },
   "outputs": [],
   "source": [
    "with open('../Hw2_data/predictions-deep.csv', 'w', newline=\"\") as file:\n",
    "    writer = csv.writer(file)\n",
    "    writer.writerow(('Id', 'Category'))\n",
    "    for i in range(0, test_images.shape[0]):\n",
    "        writer.writerow((i, np.argmax(predictions[i])))"
   ]
  }
 ],
 "metadata": {
  "kernelspec": {
   "display_name": "Python 3",
   "language": "python",
   "name": "python3"
  },
  "language_info": {
   "codemirror_mode": {
    "name": "ipython",
    "version": 3
   },
   "file_extension": ".py",
   "mimetype": "text/x-python",
   "name": "python",
   "nbconvert_exporter": "python",
   "pygments_lexer": "ipython3",
   "version": "3.5.2"
  }
 },
 "nbformat": 4,
 "nbformat_minor": 2
}
