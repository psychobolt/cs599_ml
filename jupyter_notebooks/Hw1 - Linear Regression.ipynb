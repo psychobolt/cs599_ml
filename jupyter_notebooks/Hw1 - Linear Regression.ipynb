{
 "cells": [
  {
   "cell_type": "markdown",
   "metadata": {},
   "source": [
    "<h2>Homework 1: Linear Regression on Boston Housing Data</h2>\n",
    "\n",
    "You're asked to do the following tasks to predict boston house price:\n",
    "<lu>\n",
    "<li>Use scikit-learn</li>\n",
    "<li>Implement analytical solution (normal equation) to obtain weights</li>\n",
    "<li>Implement numerical solution (gradient descent) to obtain weights</li>\n",
    "</lu>\n",
    "    Note: the accuracy of your implementations should be close to that of a linear model from scikit-learn\n",
    "\n",
    "In addition, you need to show the resulting intercept and coefficents, calculate errors on training dataset and testing dataset, and plot a figure to show your predictions and real prices on the testing dataset. "
   ]
  },
  {
   "cell_type": "code",
   "execution_count": 1,
   "metadata": {
    "collapsed": false
   },
   "outputs": [],
   "source": [
    "# The modules we're going to use\n",
    "from __future__ import print_function\n",
    "from sklearn import preprocessing\n",
    "from sklearn.model_selection import train_test_split\n",
    "from sklearn import datasets, linear_model\n",
    "from scipy import linalg\n",
    "import numpy as np\n",
    "import matplotlib.pyplot as plt\n",
    "\n",
    "# When you execute a code to plot with a simple SHIFT-ENTER, the plot will be shown directly under the code cell\n",
    "%matplotlib inline"
   ]
  },
  {
   "cell_type": "code",
   "execution_count": 2,
   "metadata": {
    "collapsed": true
   },
   "outputs": [],
   "source": [
    "# Load data from scikit-learn, which returns (data, target)\n",
    "# note: if you call \"boston = load_boston()\", it returns a dictionary-like object\n",
    "data, target = datasets.load_boston(True)\n",
    "\n",
    "# Split the data into two parts: training data and testing data\n",
    "train_data,test_data,train_target,test_target = train_test_split(data,(target[:, np.newaxis]), test_size=0.2, random_state=42)"
   ]
  },
  {
   "cell_type": "markdown",
   "metadata": {},
   "source": [
    "<h4>Use scikit-learn library in the following cell</h4>"
   ]
  },
  {
   "cell_type": "code",
   "execution_count": 3,
   "metadata": {
    "collapsed": false
   },
   "outputs": [
    {
     "name": "stdout",
     "output_type": "stream",
     "text": [
      "Intercept: \n",
      " [ 30.28894834]\n",
      "Coefficients: \n",
      " [[ -1.12463481e-01   3.00810168e-02   4.07309919e-02   2.78676719e+00\n",
      "   -1.72406347e+01   4.43248784e+00  -6.23998173e-03  -1.44848504e+00\n",
      "    2.62113793e-01  -1.06390978e-02  -9.16398679e-01   1.24516469e-02\n",
      "   -5.09349120e-01]]\n",
      "Train Data MSE: \n",
      " 21.6415740967\n",
      "Test Data MSE: \n",
      " 24.3114269297\n"
     ]
    },
    {
     "data": {
      "text/plain": [
       "<matplotlib.text.Text at 0x7fb54723a630>"
      ]
     },
     "execution_count": 3,
     "metadata": {},
     "output_type": "execute_result"
    },
    {
     "data": {
      "image/png": "[encoded data removed]",
      "text/plain": [
       "<matplotlib.figure.Figure at 0x7fb57c9767b8>"
      ]
     },
     "metadata": {},
     "output_type": "display_data"
    }
   ],
   "source": [
    "# Task 1-1: use linear regression in sklearn\n",
    "reg = linear_model.LinearRegression()\n",
    "reg = reg.fit(train_data, train_target) # fit to the training data\n",
    "\n",
    "# Task 1-2: show intercept and coefficents\n",
    "print('Intercept: \\n', reg.intercept_)\n",
    "print('Coefficients: \\n', reg.coef_)\n",
    "\n",
    "# Task 1-3: show errors on training dataset and testing dataset\n",
    "predictions = reg.predict(train_data) # get predictions based on fitted model\n",
    "distances = train_target - predictions # get distance for each prediction from target\n",
    "error = np.mean(distances ** 2) # compute the mean square error\n",
    "print('Train Data MSE: \\n', error)\n",
    "\n",
    "predictions = reg.predict(test_data) # get predictions based on fitted model\n",
    "distances = test_target - predictions # get distance for each prediction from target\n",
    "error = np.mean(distances ** 2) # compute the mean square error\n",
    "print('Test Data MSE: \\n', error)\n",
    "\n",
    "# Task 1-4: show plot a figure to show your predictions and real prices on the testing dataset\n",
    "plt.scatter(predictions, test_target, color='green')\n",
    "plt.xlabel('Predicted prices (K)')\n",
    "plt.ylabel('Real prices (K)')"
   ]
  },
  {
   "cell_type": "markdown",
   "metadata": {},
   "source": [
    "<h4>Use analytical solution (normal equation) to perform linear regression in the following cell</h4>"
   ]
  },
  {
   "cell_type": "code",
   "execution_count": 4,
   "metadata": {
    "collapsed": false
   },
   "outputs": [
    {
     "name": "stdout",
     "output_type": "stream",
     "text": [
      "Intercept: \n",
      " 30.2889483394\n",
      "Coefficients: \n",
      " [ -1.12463481e-01   3.00810168e-02   4.07309919e-02   2.78676719e+00\n",
      "  -1.72406347e+01   4.43248784e+00  -6.23998173e-03  -1.44848504e+00\n",
      "   2.62113793e-01  -1.06390978e-02  -9.16398679e-01   1.24516469e-02\n",
      "  -5.09349120e-01]\n",
      "Train Data MSE: \n",
      " 21.6415740967\n",
      "Test Data MSE: \n",
      " 24.3114269297\n"
     ]
    },
    {
     "data": {
      "text/plain": [
       "<matplotlib.text.Text at 0x7fb5471955f8>"
      ]
     },
     "execution_count": 4,
     "metadata": {},
     "output_type": "execute_result"
    },
    {
     "data": {
      "image/png": "[encoded data removed]",
      "text/plain": [
       "<matplotlib.figure.Figure at 0x7fb5472415f8>"
      ]
     },
     "metadata": {},
     "output_type": "display_data"
    }
   ],
   "source": [
    "# Task 2-1: Implement a function solving normal equation \n",
    "# Inputs: Training data and  training label\n",
    "# Output: Weights\n",
    "def myNormalEqualFun(X,y):\n",
    "    \"\"\"\n",
    "    Find wieghts with least cost by solving -[(X^T)(t - Xw)]/N=0, where X is training data and t is target\n",
    "    \"\"\"\n",
    "    w = np.linalg.inv(X.T.dot(X)).dot(X.T).dot(y) # equivalent to [(X^T*X)^-1]*X^T*y\n",
    "    return w.T\n",
    "    \n",
    "# Task 2-2: Implement a function performing prediction\n",
    "# Inputs: Testing data and weights\n",
    "# Output: Predictions\n",
    "def myPredictFun(X,w):\n",
    "    return X.dot(w.T)\n",
    "\n",
    "# Here we insert a column of 1s into training_data and test_data (to be consistent with our lecture slides)\n",
    "train_data_intercept = np.insert(train_data, 0, 1, axis=1)\n",
    "test_data_intercept = np.insert(test_data, 0, 1, axis=1)\n",
    "\n",
    "# Here we call myNormalEqual to train the model and get weights\n",
    "w = myNormalEqualFun(train_data_intercept,train_target)\n",
    "\n",
    "# Task 2-3: show intercept and coefficents\n",
    "intercept = w[0][0] # get slice of intercept\n",
    "print('Intercept: \\n', intercept)\n",
    "coefficients = w[0][1:] # get slice of coefficients\n",
    "print('Coefficients: \\n', coefficients)\n",
    "\n",
    "# Task 2-4: show errors on training dataset and testing dataset\n",
    "predictions = myPredictFun(train_data_intercept, w) # get predictions on fitted model\n",
    "distances = train_target - predictions # get distance for each prediction from target\n",
    "error = np.mean(distances ** 2) # compute the mean square error\n",
    "print('Train Data MSE: \\n', error)\n",
    "\n",
    "predictions = myPredictFun(test_data_intercept, w) # get predictions on fitted model\n",
    "distances = test_target - predictions # get distance for each prediction from target\n",
    "error = np.mean(distances ** 2) # compute the mean square error\n",
    "print('Test Data MSE: \\n', error)\n",
    "\n",
    "\n",
    "# Task 2-5: show plot a figure to show your predictions and real prices on the testing dataset\n",
    "plt.scatter(predictions, test_target, color='green')\n",
    "plt.xlabel('Predicted prices (K)')\n",
    "plt.ylabel('Real prices (K)')"
   ]
  },
  {
   "cell_type": "markdown",
   "metadata": {},
   "source": [
    "<h4>Use numerical solution (gradient descent) to perform linear regression in the following cell</h4>"
   ]
  },
  {
   "cell_type": "code",
   "execution_count": 5,
   "metadata": {
    "collapsed": false
   },
   "outputs": [
    {
     "name": "stdout",
     "output_type": "stream",
     "text": [
      "Intercept: \n",
      " 22.7965346535\n",
      "Coefficients: \n",
      " [-0.9959922   0.69501597  0.2793815   0.7195102  -2.02666553  3.1410082\n",
      " -0.17457063 -3.08308698  2.24540329 -1.76206124 -2.0397505   1.13871984\n",
      " -3.6170184 ]\n",
      "Train Data MSE: \n",
      " 21.6415757572\n",
      "Test Data MSE: \n",
      " 24.3133080567\n"
     ]
    },
    {
     "data": {
      "text/plain": [
       "<matplotlib.text.Text at 0x7fb546db7358>"
      ]
     },
     "execution_count": 5,
     "metadata": {},
     "output_type": "execute_result"
    },
    {
     "data": {
      "image/png": "[encoded data removed]",
      "text/plain": [
       "<matplotlib.figure.Figure at 0x7fb547195358>"
      ]
     },
     "metadata": {},
     "output_type": "display_data"
    }
   ],
   "source": [
    "# Feature scaling\n",
    "scaler = preprocessing.StandardScaler().fit(train_data)\n",
    "train_data = scaler.transform(train_data)\n",
    "test_data = scaler.transform(test_data)\n",
    "\n",
    "\n",
    "# Task 3-1: Implement a function performing gradient descent\n",
    "# Inputs: Training data, training label, leaerning rate, number of iterations\n",
    "# Output: Weights\n",
    "def myGradientDescentFun(X,y,learning_rate,numItrs):\n",
    "    i = 0\n",
    "    w = np.empty((14,1)) # initialize array with random values\n",
    "    n = X.shape[0] # number of training examples\n",
    "    while i < numItrs: # run [numItrs] times\n",
    "        w += X.T.dot(y - X.dot(w)) * learning_rate / n # equivalent to w = w + e * (1/2) * X^T (y - Xw)\n",
    "        i += 1\n",
    "    return w.T\n",
    "\n",
    "# Task 3-2: Implement a function performing prediction\n",
    "# Inputs: Testing data and weights\n",
    "# Output: Predictions\n",
    "def myPredictFun(X,w):\n",
    "    return X.dot(w.T)\n",
    "\n",
    "# Here we insert a column of 1s into training_data and test_data (to be consistent with our lecture slides)\n",
    "train_data_intercept = np.insert(train_data, 0, 1, axis=1)\n",
    "test_data_intercept = np.insert(test_data, 0, 1, axis=1)\n",
    "\n",
    "# Here we call myGradientDescentFun to train the model and get weights\n",
    "# Note: you need to figure out good learning rate value and the number of iterations\n",
    "w = myGradientDescentFun(train_data_intercept,train_target,0.1,1000)\n",
    "\n",
    "# Task 3-3: show intercept and coefficents\n",
    "intercept = w[0][0] # get slice of intercept\n",
    "print('Intercept: \\n', intercept)\n",
    "coefficients = w[0][1:] # get slice of coefficients\n",
    "print('Coefficients: \\n', coefficients)\n",
    "\n",
    "# Task 3-4: show errors on training dataset and testing dataset\n",
    "predictions = myPredictFun(train_data_intercept, w) # get predictions on fitted model\n",
    "distances = train_target - predictions # get distance for each prediction from target\n",
    "error = np.mean(distances ** 2) # compute the mean square error\n",
    "print('Train Data MSE: \\n', error)\n",
    "\n",
    "predictions = myPredictFun(test_data_intercept, w) # get predictions on fitted model\n",
    "distances = test_target - predictions # get distance for each prediction from target\n",
    "error = np.mean(distances ** 2) # compute the mean square error\n",
    "print('Test Data MSE: \\n', error)\n",
    "\n",
    "\n",
    "# Task 3-5: show plot a figure to show your predictions and real prices on the testing dataset\n",
    "plt.scatter(predictions, test_target, color='green')\n",
    "plt.xlabel('Predicted prices (K)')\n",
    "plt.ylabel('Real prices (K)')"
   ]
  }
 ],
 "metadata": {
  "kernelspec": {
   "display_name": "Python 3",
   "language": "python",
   "name": "python3"
  },
  "language_info": {
   "codemirror_mode": {
    "name": "ipython",
    "version": 3
   },
   "file_extension": ".py",
   "mimetype": "text/x-python",
   "name": "python",
   "nbconvert_exporter": "python",
   "pygments_lexer": "ipython3",
   "version": "3.6.0"
  }
 },
 "nbformat": 4,
 "nbformat_minor": 2
}
