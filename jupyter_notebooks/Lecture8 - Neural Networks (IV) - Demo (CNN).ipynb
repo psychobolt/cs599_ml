{
 "cells": [
  {
   "cell_type": "code",
   "execution_count": 1,
   "metadata": {},
   "outputs": [
    {
     "name": "stderr",
     "output_type": "stream",
     "text": [
      "Using TensorFlow backend.\n"
     ]
    }
   ],
   "source": [
    "# The modules we're going to use\n",
    "from keras.datasets import mnist\n",
    "from keras.utils import np_utils\n",
    "from keras.models import Sequential\n",
    "from keras.layers import Dense, Activation, convolutional, pooling, Flatten, Dropout\n",
    "from keras.optimizers import Adam\n",
    "\n",
    "import numpy as np\n",
    "np.random.seed(1337)\n",
    "import matplotlib.pyplot as plt\n",
    "\n",
    "# When you execute a code to plot with a simple SHIFT-ENTER, the plot will be shown directly under the code cell\n",
    "%matplotlib inline"
   ]
  },
  {
   "cell_type": "code",
   "execution_count": 2,
   "metadata": {},
   "outputs": [
    {
     "name": "stdout",
     "output_type": "stream",
     "text": [
      "Before pre-processing, X_train size:  (1000, 28, 28)\n",
      "Before pre-processing, y_train size:  (1000,)\n",
      "Before pre-processing, X_test size:  (10000, 28, 28)\n",
      "Before pre-processing, y_test size:  (10000,)\n",
      "After pre-processing, X_train size:  (1000, 1, 28, 28)\n",
      "After pre-processing, y_train size:  (1000, 10)\n",
      "After pre-processing, X_test size:  (10000, 1, 28, 28)\n",
      "After pre-processing, y_test size:  (10000, 10)\n"
     ]
    }
   ],
   "source": [
    "# Load mnist data\n",
    "(X_train,y_train),(X_test,y_test) = mnist.load_data()\n",
    "X_train = X_train[:1000]\n",
    "y_train = y_train[:1000]\n",
    "\n",
    "print('Before pre-processing, X_train size: ', X_train.shape)\n",
    "print('Before pre-processing, y_train size: ', y_train.shape)\n",
    "print('Before pre-processing, X_test size: ', X_test.shape)\n",
    "print('Before pre-processing, y_test size: ', y_test.shape)\n",
    "\n",
    "# Pre-processing\n",
    "X_train = X_train.reshape(-1,1, 28,28)\n",
    "X_test = X_test.reshape(-1,1, 28,28)\n",
    "y_train = np_utils.to_categorical(y_train,10)\n",
    "y_test = np_utils.to_categorical(y_test,10)\n",
    "\n",
    "print('After pre-processing, X_train size: ', X_train.shape)\n",
    "print('After pre-processing, y_train size: ', y_train.shape)\n",
    "print('After pre-processing, X_test size: ', X_test.shape)\n",
    "print('After pre-processing, y_test size: ', y_test.shape)"
   ]
  },
  {
   "cell_type": "code",
   "execution_count": 3,
   "metadata": {},
   "outputs": [],
   "source": [
    "# Create a neural net\n",
    "model = Sequential()\n",
    "\n",
    "# Define dropout rate\n",
    "dprate = 0.5;\n",
    "\n",
    "# Add convolutional layer\n",
    "model.add(convolutional.Conv2D(\n",
    "    filters=32,\n",
    "    kernel_size=(3,3),\n",
    "    strides=(1, 1),\n",
    "    padding='same',     #padding_method\n",
    "    input_shape=(1,28,28),  # channels\n",
    "    activation='relu',\n",
    "))\n",
    "\n",
    "# Add max-pooling layer\n",
    "model.add(pooling.MaxPooling2D(\n",
    "    pool_size=(2, 2),\n",
    "    padding='same', #padding_method\n",
    "))\n",
    "\n",
    "# Add 2nd convolutional layer and max-pooling layer\n",
    "model.add(convolutional.Conv2D(64,(5,5),padding='same'))\n",
    "model.add(Activation('relu'))\n",
    "model.add(pooling.MaxPooling2D(pool_size=(2,2),padding='same'))\n",
    "\n",
    "# Add 3rd convolutional layer and max-pooling layer\n",
    "model.add(convolutional.Conv2D(128,(5,5),padding='same'))\n",
    "model.add(Activation('relu'))\n",
    "model.add(pooling.MaxPooling2D(pool_size=(2,2),padding='same'))\n",
    "\n",
    "# Add flatten layer and fully connected layer\n",
    "model.add(Flatten())\n",
    "model.add(Dense(1024))\n",
    "model.add(Activation('relu'))\n",
    "model.add(Dropout(dprate))\n",
    "\n",
    "# Add one more fully connected layer with softmax activation function\n",
    "model.add(Dense(10))\n",
    "model.add(Activation('softmax'))"
   ]
  },
  {
   "cell_type": "code",
   "execution_count": 6,
   "metadata": {},
   "outputs": [
    {
     "name": "stdout",
     "output_type": "stream",
     "text": [
      "Epoch 1/10\n",
      "5s - loss: 2.4270 - acc: 0.4430\n",
      "Epoch 2/10\n",
      "0s - loss: 0.5422 - acc: 0.8270\n",
      "Epoch 3/10\n",
      "0s - loss: 0.2558 - acc: 0.9120\n",
      "Epoch 4/10\n",
      "0s - loss: 0.1339 - acc: 0.9580\n",
      "Epoch 5/10\n",
      "0s - loss: 0.0813 - acc: 0.9740\n",
      "Epoch 6/10\n",
      "0s - loss: 0.0510 - acc: 0.9880\n",
      "Epoch 7/10\n",
      "0s - loss: 0.0263 - acc: 0.9950\n",
      "Epoch 8/10\n",
      "0s - loss: 0.0317 - acc: 0.9900\n",
      "Epoch 9/10\n",
      "0s - loss: 0.0241 - acc: 0.9940\n",
      "Epoch 10/10\n",
      "0s - loss: 0.0749 - acc: 0.9770\n",
      "test loss: 0.683992094129\n",
      "test accuracy 0.8433\n"
     ]
    }
   ],
   "source": [
    "# Specify an optimizer to use\n",
    "\n",
    "# Choose loss function, optimization method, and metrics (which results to display)\n",
    "model.compile(\n",
    "    optimizer = 'adam',\n",
    "    loss='categorical_crossentropy',\n",
    "    metrics=['accuracy']\n",
    ")\n",
    "\n",
    "# Training\n",
    "model.fit(X_train,y_train,epochs=10,batch_size=32,verbose=2)\n",
    "\n",
    "# Testing\n",
    "loss, accuracy = model.evaluate(X_test,y_test,verbose=2)\n",
    "print('test loss:', loss)\n",
    "print('test accuracy', accuracy)"
   ]
  },
  {
   "cell_type": "code",
   "execution_count": 7,
   "metadata": {},
   "outputs": [
    {
     "name": "stdout",
     "output_type": "stream",
     "text": [
      "[ 0.  0.  0.  0.  0.  0.  0.  0.  0.  1.]\n",
      "[[  6.39205189e-10   1.75710968e-09   2.60254196e-09   2.41355611e-08\n",
      "    1.68577916e-08   2.82919146e-08   3.34589967e-10   3.77684705e-06\n",
      "    8.06164593e-08   9.99996066e-01]]\n"
     ]
    },
    {
     "data": {
      "text/plain": [
       "[<matplotlib.lines.Line2D at 0x1ce5fa1e390>]"
      ]
     },
     "execution_count": 7,
     "metadata": {},
     "output_type": "execute_result"
    },
    {
     "data": {
      "image/png": "[encoded data removed]",
      "text/plain": [
       "<matplotlib.figure.Figure at 0x1cdd6ccdf98>"
      ]
     },
     "metadata": {},
     "output_type": "display_data"
    },
    {
     "data": {
      "image/png": "[encoded data removed]",
      "text/plain": [
       "<matplotlib.figure.Figure at 0x1cdd6688780>"
      ]
     },
     "metadata": {},
     "output_type": "display_data"
    }
   ],
   "source": [
    "# Show the image of one testing example\n",
    "temp = np.random.randint(y_test.shape[0],size=1)\n",
    "plt.imshow(X_test[temp[0],0,:,:])\n",
    "\n",
    "# Display its target\n",
    "print(y_test[temp[0]])\n",
    "\n",
    "# Get its prediction\n",
    "output = model.predict(X_test[temp[0]].reshape(-1,1, 28,28))\n",
    "print(output)\n",
    "plt.figure()\n",
    "plt.xticks(np.arange(output.shape[1]))\n",
    "plt.plot(np.arange(output.shape[1]),output.T)"
   ]
  },
  {
   "cell_type": "code",
   "execution_count": null,
   "metadata": {
    "collapsed": true
   },
   "outputs": [],
   "source": []
  }
 ],
 "metadata": {
  "kernelspec": {
   "display_name": "Python 3",
   "language": "python",
   "name": "python3"
  },
  "language_info": {
   "codemirror_mode": {
    "name": "ipython",
    "version": 3
   },
   "file_extension": ".py",
   "mimetype": "text/x-python",
   "name": "python",
   "nbconvert_exporter": "python",
   "pygments_lexer": "ipython3",
   "version": "3.5.2"
  }
 },
 "nbformat": 4,
 "nbformat_minor": 2
}
